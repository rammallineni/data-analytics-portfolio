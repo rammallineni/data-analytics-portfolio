{
 "cells": [
  {
   "cell_type": "markdown",
   "id": "3b25e112",
   "metadata": {},
   "source": [
    "# P1 — Retail Sales Analytics : 01_eda"
   ]
  },
  {
   "cell_type": "code",
   "execution_count": null,
   "id": "32dc7a4f",
   "metadata": {},
   "outputs": [],
   "source": [
    "import pandas as pd, numpy as np\n",
    "from sqlalchemy import create_engine, text\n",
    "import matplotlib.pyplot as plt\n",
    "\n",
    "DB = 'sqlite:///../../da4.db'\n",
    "TABLE = 'p1_sales_stage'\n",
    "\n",
    "engine = create_engine(DB)\n",
    "with engine.begin() as conn:\n",
    "    df = pd.read_sql(text(f'SELECT * FROM {TABLE}'), conn)\n",
    "\n",
    "print('Shape:', df.shape)\n",
    "display(df.head())\n",
    "display(df.describe(numeric_only=True).T)\n",
    "print('\\nNull % (top):')\n",
    "print((df.isna().mean()*100).sort_values(ascending=False).head(15))\n"
   ]
  },
  {
   "cell_type": "markdown",
   "id": "454e5aa0",
   "metadata": {},
   "source": [
    "# --- Basic checks\n",
    "df['order_date'] = pd.to_datetime(df['order_date'])\n",
    "print('Date range:', df['order_date'].min(), '→', df['order_date'].max())\n",
    "print('Duplicated order_id rows:', df.duplicated(['order_id','product_id']).sum())\n"
   ]
  },
  {
   "cell_type": "markdown",
   "id": "06f6dbe3",
   "metadata": {},
   "source": [
    "# --- Monthly revenue\n",
    "mrev = (df.assign(ym=df['order_date'].dt.to_period('M').astype(str))\n",
    "          .groupby('ym', as_index=False)['revenue'].sum().sort_values('ym'))\n",
    "plt.figure(); plt.plot(mrev['ym'], mrev['revenue'])\n",
    "plt.xticks(rotation=90); plt.title('Monthly Revenue'); plt.tight_layout(); plt.show()"
   ]
  },
  {
   "cell_type": "markdown",
   "id": "6b47348b",
   "metadata": {},
   "source": [
    "# --- Top sub-categories by gross profit\n",
    "top_sub = (df.groupby(['category','sub_category'], as_index=False)['gross_profit']\n",
    "             .sum().sort_values('gross_profit', ascending=False).head(10))\n",
    "plt.figure(); plt.bar(top_sub['sub_category'], top_sub['gross_profit'])\n",
    "plt.xticks(rotation=45, ha='right'); plt.title('Top Sub-categories by Gross Profit')\n",
    "plt.tight_layout(); plt.show()\n",
    "top_sub"
   ]
  },
  {
   "cell_type": "markdown",
   "id": "5c4ef8b1",
   "metadata": {},
   "source": [
    "# --- Region x Segment revenue pivot\n",
    "pv = df.pivot_table(values='revenue', index='region', columns='customer_segment', aggfunc='sum', fill_value=0)\n",
    "pv\n"
   ]
  }
 ],
 "metadata": {},
 "nbformat": 4,
 "nbformat_minor": 5
}
