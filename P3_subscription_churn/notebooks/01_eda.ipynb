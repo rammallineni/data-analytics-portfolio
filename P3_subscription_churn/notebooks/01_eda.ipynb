{
 "cells": [
  {
   "cell_type": "markdown",
   "id": "e688c298",
   "metadata": {},
   "source": [
    "# P3 — Subscription Churn & Retention : 01_eda"
   ]
  },
  {
   "cell_type": "code",
   "execution_count": null,
   "id": "c5c131b9",
   "metadata": {},
   "outputs": [],
   "source": [
    "import pandas as pd, numpy as np\n",
    "from sqlalchemy import create_engine, text\n",
    "import matplotlib.pyplot as plt\n",
    "\n",
    "DB = 'sqlite:///../../da4.db'\n",
    "TABLE = 'p3_churn_stage'\n",
    "\n",
    "engine = create_engine(DB)\n",
    "with engine.begin() as conn:\n",
    "    df = pd.read_sql(text(f'SELECT * FROM {TABLE}'), conn)\n",
    "\n",
    "print('Shape:', df.shape)\n",
    "display(df.head())\n",
    "display(df.describe(numeric_only=True).T)\n",
    "print('\\nNull % (top):')\n",
    "print((df.isna().mean()*100).sort_values(ascending=False).head(15))\n"
   ]
  },
  {
   "cell_type": "markdown",
   "id": "af2be4e6",
   "metadata": {},
   "source": [
    "# --- Churn rate overall & by plan/tenure\n",
    "overall = df['churned'].mean()\n",
    "print('Overall churn %:', round(overall*100,2))\n",
    "by_plan = df.groupby('plan', as_index=False)['churned'].mean()\n",
    "by_ten  = df.groupby('tenure_bucket', as_index=False)['churned'].mean().sort_values('tenure_bucket')\n",
    "plt.figure(); plt.bar(by_plan['plan'], by_plan['churned']*100)\n",
    "plt.title('Churn % by Plan'); plt.tight_layout(); plt.show()\n",
    "plt.figure(); plt.bar(by_ten['tenure_bucket'], by_ten['churned']*100)\n",
    "plt.title('Churn % by Tenure Bucket'); plt.tight_layout(); plt.show()\n",
    "by_plan, by_ten\n"
   ]
  },
  {
   "cell_type": "markdown",
   "id": "e081eca3",
   "metadata": {},
   "source": [
    "# --- Simple cohort retention proxy (share not churned by cohort)\n",
    "coh = (df.groupby('cohort_month', as_index=False)\n",
    "         .agg(active=('churned', lambda s: (1 - s).sum()),\n",
    "              size=('churned','size')))\n",
    "coh['retention_pct'] = coh['active'] / coh['size'] * 100\n",
    "coh.sort_values('cohort_month', inplace=True)\n",
    "plt.figure(); plt.plot(coh['cohort_month'], coh['retention_pct'])\n",
    "plt.xticks(rotation=90); plt.title('Retention % by Signup Cohort'); plt.tight_layout(); plt.show()\n",
    "coh\n"
   ]
  },
  {
   "cell_type": "markdown",
   "id": "0a1a5fa6",
   "metadata": {},
   "source": [
    "# --- At-risk breakdown\n",
    "risk = df.groupby(['plan','country'], as_index=False)['at_risk'].mean().sort_values('at_risk', ascending=False).head(10)\n",
    "risk\n"
   ]
  }
 ],
 "metadata": {},
 "nbformat": 4,
 "nbformat_minor": 5
}
