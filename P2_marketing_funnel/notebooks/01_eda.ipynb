{
 "cells": [
  {
   "cell_type": "markdown",
   "id": "49205df5",
   "metadata": {},
   "source": [
    "# P2 — Marketing Funnel & A/B : 01_eda"
   ]
  },
  {
   "cell_type": "code",
   "execution_count": null,
   "id": "6d8c230e",
   "metadata": {},
   "outputs": [],
   "source": [
    "import pandas as pd, numpy as np\n",
    "from sqlalchemy import create_engine, text\n",
    "import matplotlib.pyplot as plt\n",
    "\n",
    "DB = 'sqlite:///../../da4.db'\n",
    "TABLE = 'p2_ads_stage'\n",
    "\n",
    "engine = create_engine(DB)\n",
    "with engine.begin() as conn:\n",
    "    df = pd.read_sql(text(f'SELECT * FROM {TABLE}'), conn)\n",
    "\n",
    "print('Shape:', df.shape)\n",
    "display(df.head())\n",
    "display(df.describe(numeric_only=True).T)\n",
    "print('\\nNull % (top):')\n",
    "print((df.isna().mean()*100).sort_values(ascending=False).head(15))\n"
   ]
  },
  {
   "cell_type": "markdown",
   "id": "3944dca8",
   "metadata": {},
   "source": [
    "# --- Channel performance table\n",
    "agg = (df.groupby('channel', as_index=False)\n",
    "         .agg(imp=('impressions','sum'), clk=('clicks','sum'), cnv=('conversions','sum'),\n",
    "              cost=('cost','sum'), rev=('revenue','sum')))\n",
    "agg['ctr']  = agg['clk'] / agg['imp'].replace(0, pd.NA)\n",
    "agg['cvr']  = agg['cnv'] / agg['clk'].replace(0, pd.NA)\n",
    "agg['cac']  = agg['cost'] / agg['cnv'].replace(0, pd.NA)\n",
    "agg['roas'] = agg['rev']  / agg['cost'].replace(0, pd.NA)\n",
    "agg.sort_values('roas', ascending=False, inplace=True)\n",
    "agg\n"
   ]
  },
  {
   "cell_type": "markdown",
   "id": "bcdbc16d",
   "metadata": {},
   "source": [
    "# --- ROAS by channel (bar)\n",
    "plt.figure(); plt.bar(agg['channel'], agg['roas'])\n",
    "plt.xticks(rotation=45, ha='right'); plt.title('ROAS by Channel')\n",
    "plt.tight_layout(); plt.show()\n"
   ]
  },
  {
   "cell_type": "markdown",
   "id": "9899c0ad",
   "metadata": {},
   "source": [
    "# --- Monthly ROAS trend\n",
    "df['ym'] = pd.to_datetime(df['date']).dt.to_period('M').astype(str)\n",
    "m = (df.groupby('ym', as_index=False)\n",
    "       .agg(cost=('cost','sum'), rev=('revenue','sum'))\n",
    "       .sort_values('ym'))\n",
    "m['roas'] = m['rev'] / m['cost'].replace(0, pd.NA)\n",
    "plt.figure(); plt.plot(m['ym'], m['roas'])\n",
    "plt.xticks(rotation=90); plt.title('Monthly ROAS'); plt.tight_layout(); plt.show()\n",
    "m\n"
   ]
  }
 ],
 "metadata": {},
 "nbformat": 4,
 "nbformat_minor": 5
}
