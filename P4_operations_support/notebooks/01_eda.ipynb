{
 "cells": [
  {
   "cell_type": "markdown",
   "id": "7a2f695a",
   "metadata": {},
   "source": [
    "# P4 — Operations / Support Analytics : 01_eda"
   ]
  },
  {
   "cell_type": "code",
   "execution_count": null,
   "id": "b8eb9962",
   "metadata": {},
   "outputs": [],
   "source": [
    "import pandas as pd, numpy as np\n",
    "from sqlalchemy import create_engine, text\n",
    "import matplotlib.pyplot as plt\n",
    "\n",
    "DB = 'sqlite:///../../da4.db'\n",
    "TABLE = 'p4_tickets_stage'\n",
    "\n",
    "engine = create_engine(DB)\n",
    "with engine.begin() as conn:\n",
    "    df = pd.read_sql(text(f'SELECT * FROM {TABLE}'), conn)\n",
    "\n",
    "print('Shape:', df.shape)\n",
    "display(df.head())\n",
    "display(df.describe(numeric_only=True).T)\n",
    "print('\\nNull % (top):')\n",
    "print((df.isna().mean()*100).sort_values(ascending=False).head(15))\n"
   ]
  },
  {
   "cell_type": "markdown",
   "id": "8e9244e7",
   "metadata": {},
   "source": [
    "# --- Distributions: first response & resolution hours\n",
    "plt.figure(); df['first_response_hours'].dropna().plot(kind='hist', bins=30)\n",
    "plt.title('First Response Hours'); plt.tight_layout(); plt.show()\n",
    "plt.figure(); df['resolution_hours'].dropna().plot(kind='hist', bins=30)\n",
    "plt.title('Resolution Hours'); plt.tight_layout(); plt.show()\n"
   ]
  },
  {
   "cell_type": "markdown",
   "id": "3b485c8f",
   "metadata": {},
   "source": [
    "# --- SLA by queue/priority\n",
    "sla = (df.groupby(['queue','priority'], as_index=False)['within_sla'].mean()\n",
    "         .rename(columns={'within_sla':'sla_met_pct'}))\n",
    "sla['sla_met_pct'] *= 100\n",
    "sla.sort_values(['queue','priority'], inplace=True)\n",
    "sla\n"
   ]
  },
  {
   "cell_type": "markdown",
   "id": "4a8243e1",
   "metadata": {},
   "source": [
    "# --- Agent/queue table (top 10 slowest by resolution)\n",
    "slow = (df.groupby(['agent_id','queue'], as_index=False)['resolution_hours']\n",
    "          .mean().sort_values('resolution_hours', ascending=False).head(10))\n",
    "slow\n"
   ]
  }
 ],
 "metadata": {},
 "nbformat": 4,
 "nbformat_minor": 5
}
